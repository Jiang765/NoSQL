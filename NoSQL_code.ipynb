{
 "cells": [
  {
   "cell_type": "code",
   "execution_count": 1,
   "id": "8ab7c793-a611-4365-80f8-73a5309bfcce",
   "metadata": {},
   "outputs": [],
   "source": [
    "import os\n",
    "import boto3\n",
    "import csv"
   ]
  },
  {
   "cell_type": "code",
   "execution_count": 5,
   "id": "17a7b333-439e-48b4-8999-eee8548a3fb7",
   "metadata": {},
   "outputs": [],
   "source": [
    "AWS_KEY_ID = os.getenv(\"AWS_KEY_ID\") \n",
    "AWS_KEY = os.getenv(\"AWS_KEY\") \n",
    "DATA_CONT_NAME = 'cloudcomputingdatacont'"
   ]
  },
  {
   "cell_type": "code",
   "execution_count": 7,
   "id": "bda10c98-3fd2-4cd6-9416-75e539dbb4dd",
   "metadata": {},
   "outputs": [
    {
     "data": {
      "text/plain": [
       "{'ResponseMetadata': {'RequestId': 'XGG6EAVM8NQJDTCN',\n",
       "  'HostId': '8pkEzgeJ7Y17kNY04XooDwoneThucvBSlwKdhKzxiK6PAz3D+7S5rE/Ko6F9Ogrsu5jQ2ATro00=',\n",
       "  'HTTPStatusCode': 200,\n",
       "  'HTTPHeaders': {'x-amz-id-2': '8pkEzgeJ7Y17kNY04XooDwoneThucvBSlwKdhKzxiK6PAz3D+7S5rE/Ko6F9Ogrsu5jQ2ATro00=',\n",
       "   'x-amz-request-id': 'XGG6EAVM8NQJDTCN',\n",
       "   'date': 'Fri, 22 Oct 2021 02:53:23 GMT',\n",
       "   'server': 'AmazonS3',\n",
       "   'content-length': '0'},\n",
       "  'RetryAttempts': 0}}"
      ]
     },
     "execution_count": 7,
     "metadata": {},
     "output_type": "execute_result"
    }
   ],
   "source": [
    "s3 = boto3.resource('s3',\n",
    "                    aws_access_key_id=AWS_KEY_ID,\n",
    "                    aws_secret_access_key=AWS_KEY)\n",
    "\n",
    "try:\n",
    "    s3.create_bucket(Bucket=DATA_CONT_NAME)\n",
    "except Exception as e:\n",
    "    print(e)\n",
    "\n",
    "bucket = s3.Bucket(DATA_CONT_NAME)\n",
    "bucket.Acl().put(ACL='public-read')\n",
    "\n",
    "body = open('./exp1.csv', 'rb')\n",
    "o = s3.Object(DATA_CONT_NAME, 'test').put(Body=body)\n",
    "s3.Object(DATA_CONT_NAME, 'test').Acl().put(ACL='public-read')"
   ]
  },
  {
   "cell_type": "code",
   "execution_count": 8,
   "id": "5067a2ec-393a-4a8e-8a33-36f023db5b69",
   "metadata": {},
   "outputs": [],
   "source": [
    "dyndb = boto3.resource('dynamodb',\n",
    "                       region_name='us-east-1',\n",
    "                       aws_access_key_id=AWS_KEY_ID, aws_secret_access_key=AWS_KEY\n",
    "                       )"
   ]
  },
  {
   "cell_type": "code",
   "execution_count": 9,
   "id": "400af9c2-b34c-464a-8aab-a3d52e1d749e",
   "metadata": {},
   "outputs": [],
   "source": [
    "try:\n",
    "    table = dyndb.create_table(\n",
    "        TableName='DataTable', \n",
    "        KeySchema=[\n",
    "            {\n",
    "                'AttributeName': 'PartitionKey',\n",
    "                'KeyType': 'HASH'\n",
    "            }, \n",
    "            {\n",
    "                'AttributeName': 'RowKey',\n",
    "                'KeyType': 'RANGE'\n",
    "            }\n",
    "        ], \n",
    "        AttributeDefinitions=[\n",
    "            {\n",
    "                'AttributeName': 'PartitionKey',\n",
    "                'AttributeType': 'S'\n",
    "            }, \n",
    "            {\n",
    "                'AttributeName': 'RowKey',\n",
    "                'AttributeType': 'S'\n",
    "            },\n",
    "        ], \n",
    "        ProvisionedThroughput=\n",
    "        {\n",
    "            'ReadCapacityUnits': 5,\n",
    "            'WriteCapacityUnits': 5\n",
    "        }\n",
    "    )\n",
    "except Exception as e:\n",
    "    print (e)\n",
    "    #if there is an exception, the table may already exist.\n",
    "    table = dyndb.Table(\"DataTable\")"
   ]
  },
  {
   "cell_type": "code",
   "execution_count": 10,
   "id": "fb7d5d90-50a4-4063-83aa-c28900ea3c2e",
   "metadata": {},
   "outputs": [],
   "source": [
    "table.meta.client.get_waiter('table_exists').wait(TableName='DataTable')"
   ]
  },
  {
   "cell_type": "code",
   "execution_count": 11,
   "id": "ee142ece-2c40-44d8-ad63-ce358949fa7d",
   "metadata": {},
   "outputs": [
    {
     "name": "stdout",
     "output_type": "stream",
     "text": [
      "0\n"
     ]
    }
   ],
   "source": [
    "print(table.item_count)"
   ]
  },
  {
   "cell_type": "code",
   "execution_count": 15,
   "id": "850cde89-b75e-4d19-8a60-221f0bd923f7",
   "metadata": {},
   "outputs": [
    {
     "name": "stdout",
     "output_type": "stream",
     "text": [
      "['1', '-1', '52', '3.4', 'exp1.csv']\n",
      "['2', '-2', '52.1', '3.4', 'exp2.csv']\n",
      "['3', '-2.93', '57.1', '3.7', 'exp3.csv']\n"
     ]
    }
   ],
   "source": [
    "with open('experiments.csv', 'r') as csvfile:\n",
    "    csvf = csv.reader(csvfile, delimiter=',', quotechar='|')\n",
    "    next(csvf)\n",
    "    for item in csvf:\n",
    "        print(item)\n",
    "        body = open('./'+ item[4], 'rb')\n",
    "        s3.Object(DATA_CONT_NAME, item[4]).put(Body=body)\n",
    "        md = s3.Object(DATA_CONT_NAME, item[4]).Acl().put(ACL='public-read')\n",
    "        url = \"https://s3-us-west-2.amazonaws.com/njiang765/\"+item[4]\n",
    "        metadata_item = {'PartitionKey': item[0], 'RowKey': item[1],\n",
    "                         'Conductivity' : item[2], 'Concentration': item[3], 'url':url}\n",
    "        try:\n",
    "            table.put_item(Item=metadata_item)\n",
    "        except:\n",
    "            print(\"item may already be there or another failure\")"
   ]
  },
  {
   "cell_type": "code",
   "execution_count": 16,
   "id": "37b4e647-7b22-4d4a-83b7-ab504781d297",
   "metadata": {},
   "outputs": [],
   "source": [
    "response = table.get_item(\n",
    "    Key={\n",
    "        'PartitionKey': '2',\n",
    "        'RowKey': '-2'\n",
    "    }\n",
    ")\n",
    "item = response['Item']"
   ]
  },
  {
   "cell_type": "code",
   "execution_count": 17,
   "id": "4277f08f-9bd7-4ab8-b86d-b23d0674772d",
   "metadata": {},
   "outputs": [
    {
     "name": "stdout",
     "output_type": "stream",
     "text": [
      "{'Concentration': '3.4', 'PartitionKey': '2', 'RowKey': '-2', 'url': 'https://s3-us-west-2.amazonaws.com/njiang765/exp2.csv', 'Conductivity': '52.1'}\n"
     ]
    }
   ],
   "source": [
    "print(item)"
   ]
  },
  {
   "cell_type": "code",
   "execution_count": 18,
   "id": "11d2f2d2-4b34-4f80-bf1f-a6764d8709ea",
   "metadata": {},
   "outputs": [],
   "source": [
    "response = table.get_item(\n",
    "    Key={\n",
    "        'PartitionKey': '1',\n",
    "        'RowKey': '-1'\n",
    "    }\n",
    ")\n",
    "item = response['Item']"
   ]
  },
  {
   "cell_type": "code",
   "execution_count": 19,
   "id": "fc6ea821-498c-4118-bda4-449bed573879",
   "metadata": {},
   "outputs": [
    {
     "name": "stdout",
     "output_type": "stream",
     "text": [
      "{'Concentration': '3.4', 'PartitionKey': '1', 'RowKey': '-1', 'url': 'https://s3-us-west-2.amazonaws.com/njiang765/exp1.csv', 'Conductivity': '52'}\n"
     ]
    }
   ],
   "source": [
    "print(item)"
   ]
  },
  {
   "cell_type": "code",
   "execution_count": null,
   "id": "2013b034-dd93-46ae-a64d-f721622628a9",
   "metadata": {},
   "outputs": [],
   "source": []
  }
 ],
 "metadata": {
  "kernelspec": {
   "display_name": "Python 3 (ipykernel)",
   "language": "python",
   "name": "python3"
  },
  "language_info": {
   "codemirror_mode": {
    "name": "ipython",
    "version": 3
   },
   "file_extension": ".py",
   "mimetype": "text/x-python",
   "name": "python",
   "nbconvert_exporter": "python",
   "pygments_lexer": "ipython3",
   "version": "3.8.12"
  }
 },
 "nbformat": 4,
 "nbformat_minor": 5
}
